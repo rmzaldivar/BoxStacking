{
 "cells": [
  {
   "cell_type": "markdown",
   "metadata": {},
   "source": [
    "This notebook aims to attempt to solve the problem of stacking a set of different sized boxes (which we'll call packages for clarity) in a bigger box in the most efficient way. The NEAT (neuro evolution of augmenting topologies) algorithm is used to optimize the agents attempting to solve the problem. The rationale behind this is that the problem is difficult to solve from a supervised learning perspective because the problem is NP hard and obtaining a definitive \"correct\" placement for each package isn't feasible. The problem being easily simulateable makes it more suited for this method. "
   ]
  },
  {
   "cell_type": "code",
   "execution_count": 4,
   "metadata": {},
   "outputs": [],
   "source": [
    "import neat"
   ]
  },
  {
   "cell_type": "code",
   "execution_count": null,
   "metadata": {},
   "outputs": [],
   "source": []
  }
 ],
 "metadata": {
  "kernelspec": {
   "display_name": "Python 3.7.0 64-bit",
   "language": "python",
   "name": "python3"
  },
  "language_info": {
   "codemirror_mode": {
    "name": "ipython",
    "version": 3
   },
   "file_extension": ".py",
   "mimetype": "text/x-python",
   "name": "python",
   "nbconvert_exporter": "python",
   "pygments_lexer": "ipython3",
   "version": "3.7.0"
  },
  "orig_nbformat": 4,
  "vscode": {
   "interpreter": {
    "hash": "e730ee50420b545317b21f3066065c9f9dcb3083ab6b4b6960274f3037500901"
   }
  }
 },
 "nbformat": 4,
 "nbformat_minor": 2
}
